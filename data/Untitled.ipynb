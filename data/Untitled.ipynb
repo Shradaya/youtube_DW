{
 "cells": [
  {
   "cell_type": "code",
   "execution_count": 1,
   "id": "7d394172-84ca-4145-a875-fb9ed28f1d6e",
   "metadata": {},
   "outputs": [],
   "source": [
    "import json"
   ]
  },
  {
   "cell_type": "code",
   "execution_count": 5,
   "id": "a0bae261-844a-44ac-9ea1-4443658d4973",
   "metadata": {},
   "outputs": [
    {
     "name": "stdout",
     "output_type": "stream",
     "text": [
      "Type: <class 'dict'>\n"
     ]
    }
   ],
   "source": [
    "with open('CA_category_id.json') as json_file:\n",
    "    data = json.load(json_file)\n",
    "    print(\"Type:\", type(data))"
   ]
  },
  {
   "cell_type": "code",
   "execution_count": 34,
   "id": "563f43b4-41b8-4dc2-9b9a-e9b23495af4d",
   "metadata": {},
   "outputs": [],
   "source": [
    "a = []\n",
    "for i in range(len(data['items'])):\n",
    "    a.append(data['items'][i]['id'])"
   ]
  },
  {
   "cell_type": "code",
   "execution_count": 35,
   "id": "6ac11dc0-587b-4de2-b045-c220c6e8059f",
   "metadata": {},
   "outputs": [
    {
     "data": {
      "text/plain": [
       "['1',\n",
       " '2',\n",
       " '10',\n",
       " '15',\n",
       " '17',\n",
       " '18',\n",
       " '19',\n",
       " '20',\n",
       " '21',\n",
       " '22',\n",
       " '23',\n",
       " '24',\n",
       " '25',\n",
       " '26',\n",
       " '27',\n",
       " '28',\n",
       " '30',\n",
       " '31',\n",
       " '32',\n",
       " '33',\n",
       " '34',\n",
       " '35',\n",
       " '36',\n",
       " '37',\n",
       " '38',\n",
       " '39',\n",
       " '40',\n",
       " '41',\n",
       " '42',\n",
       " '43',\n",
       " '44']"
      ]
     },
     "execution_count": 35,
     "metadata": {},
     "output_type": "execute_result"
    }
   ],
   "source": [
    "a\n"
   ]
  },
  {
   "cell_type": "code",
   "execution_count": 36,
   "id": "6e6571db-373d-4df2-abe9-1130c27a2414",
   "metadata": {},
   "outputs": [
    {
     "name": "stdout",
     "output_type": "stream",
     "text": [
      "Type: <class 'dict'>\n"
     ]
    }
   ],
   "source": [
    "with open('DE_category_id.json') as json_file:\n",
    "    data = json.load(json_file)\n",
    "    print(\"Type:\", type(data))"
   ]
  },
  {
   "cell_type": "code",
   "execution_count": 37,
   "id": "cf35f281-a1a4-4409-81f7-28dd781aef56",
   "metadata": {},
   "outputs": [],
   "source": [
    "b = []\n",
    "for i in range(len(data['items'])):\n",
    "    b.append(data['items'][i]['id'])"
   ]
  },
  {
   "cell_type": "code",
   "execution_count": 40,
   "id": "23b84b97-5d1e-4089-8b90-8350ede2ca97",
   "metadata": {},
   "outputs": [],
   "source": [
    "for i in a:\n",
    "    if i not in b:\n",
    "        print(i)"
   ]
  },
  {
   "cell_type": "code",
   "execution_count": 41,
   "id": "2cebd168-d4dc-40cf-b601-8a53dfd547cc",
   "metadata": {},
   "outputs": [
    {
     "name": "stdout",
     "output_type": "stream",
     "text": [
      "Type: <class 'dict'>\n"
     ]
    }
   ],
   "source": [
    "with open('US_category_id.json') as json_file:\n",
    "    data = json.load(json_file)\n",
    "    print(\"Type:\", type(data))"
   ]
  },
  {
   "cell_type": "code",
   "execution_count": 42,
   "id": "879d493f-1be4-4019-b0c3-104c63933462",
   "metadata": {},
   "outputs": [],
   "source": [
    "c = []\n",
    "for i in range(len(data['items'])):\n",
    "    c.append(data['items'][i]['id'])"
   ]
  },
  {
   "cell_type": "code",
   "execution_count": 44,
   "id": "32cbc7ae-1972-44e8-8dd0-e8b9cf6e1e4f",
   "metadata": {},
   "outputs": [
    {
     "name": "stdout",
     "output_type": "stream",
     "text": [
      "29\n"
     ]
    }
   ],
   "source": [
    "for i in c:\n",
    "    if i not in b:\n",
    "        print(i)"
   ]
  },
  {
   "cell_type": "code",
   "execution_count": 45,
   "id": "a9ac657c-7a9b-4acb-9aa1-6a2f4e574b1a",
   "metadata": {},
   "outputs": [
    {
     "name": "stdout",
     "output_type": "stream",
     "text": [
      "Type: <class 'dict'>\n"
     ]
    }
   ],
   "source": [
    "with open('RU_category_id.json') as json_file:\n",
    "    data = json.load(json_file)\n",
    "    print(\"Type:\", type(data))\n",
    "d = []\n",
    "for i in range(len(data['items'])):\n",
    "    d.append(data['items'][i]['id'])"
   ]
  },
  {
   "cell_type": "code",
   "execution_count": 46,
   "id": "b946e6bb-ea60-4442-a808-b9d63d4ca059",
   "metadata": {},
   "outputs": [
    {
     "name": "stdout",
     "output_type": "stream",
     "text": [
      "29\n"
     ]
    }
   ],
   "source": [
    "for i in c:\n",
    "    if i not in d:\n",
    "        print(i)"
   ]
  },
  {
   "cell_type": "code",
   "execution_count": 47,
   "id": "84252a16-8c30-4794-ac82-24ff61873269",
   "metadata": {},
   "outputs": [],
   "source": [
    "with open('RU_category_id.json') as json_file:\n",
    "    data = json.load(json_file)\n",
    "    \n",
    "    \n"
   ]
  },
  {
   "cell_type": "code",
   "execution_count": 60,
   "id": "6ca91206-6c88-4904-afe4-7cb9fee5e8bc",
   "metadata": {},
   "outputs": [],
   "source": [
    "data['items']\n",
    "temp = []\n",
    "for i in range(len(data['items'])):\n",
    "    temp.append ( [data['items'][i]['id'],data['items'][i]['snippet']['title'],data['items'][i]['snippet']['assignable']] )"
   ]
  },
  {
   "cell_type": "code",
   "execution_count": 61,
   "id": "369b2ad4-8f47-439e-98c4-c84c8013cf92",
   "metadata": {},
   "outputs": [
    {
     "data": {
      "text/plain": [
       "[['1', 'Film & Animation', True],\n",
       " ['2', 'Autos & Vehicles', True],\n",
       " ['10', 'Music', True],\n",
       " ['15', 'Pets & Animals', True],\n",
       " ['17', 'Sports', True],\n",
       " ['18', 'Short Movies', False],\n",
       " ['19', 'Travel & Events', True],\n",
       " ['20', 'Gaming', True],\n",
       " ['21', 'Videoblogging', False],\n",
       " ['22', 'People & Blogs', True],\n",
       " ['23', 'Comedy', True],\n",
       " ['24', 'Entertainment', True],\n",
       " ['25', 'News & Politics', True],\n",
       " ['26', 'Howto & Style', True],\n",
       " ['27', 'Education', True],\n",
       " ['28', 'Science & Technology', True],\n",
       " ['30', 'Movies', False],\n",
       " ['31', 'Anime/Animation', False],\n",
       " ['32', 'Action/Adventure', False],\n",
       " ['33', 'Classics', False],\n",
       " ['34', 'Comedy', False],\n",
       " ['35', 'Documentary', False],\n",
       " ['36', 'Drama', False],\n",
       " ['37', 'Family', False],\n",
       " ['38', 'Foreign', False],\n",
       " ['39', 'Horror', False],\n",
       " ['40', 'Sci-Fi/Fantasy', False],\n",
       " ['41', 'Thriller', False],\n",
       " ['42', 'Shorts', False],\n",
       " ['43', 'Shows', False],\n",
       " ['44', 'Trailers', False]]"
      ]
     },
     "execution_count": 61,
     "metadata": {},
     "output_type": "execute_result"
    }
   ],
   "source": [
    "temp"
   ]
  },
  {
   "cell_type": "code",
   "execution_count": 72,
   "id": "921e1dce-c38f-4507-b649-2b7108faef1a",
   "metadata": {},
   "outputs": [],
   "source": [
    "import json\n",
    "temp = []\n",
    "def extract_category_data_json(filenames):\n",
    "    \"\"\"con = psycopg2.connect(\n",
    "        host = \"localhost\"\n",
    "        db1 = \"etl_design\"\n",
    "        user = \"postgres\"\n",
    "        password = \"Shradaya123\"\n",
    "        port = 5432\n",
    "        db2 = \"ecom\"\n",
    "    )\n",
    "    cur = con.cursor()\n",
    "    \"\"\"\n",
    "   \n",
    "    for i in filenames:\n",
    "        with open(i) as json_data:\n",
    "            data = json.load(json_data)\n",
    "\n",
    "            for i in range(len(data['items'])):\n",
    "                temp.append ( [data['items'][i]['id'],data['items'][i]['snippet']['title'],data['items'][i]['snippet']['assignable']] )\n",
    "\n",
    "    \"\"\"sql_query = sql.query(query.extract_employee_data_query)\n",
    "    archive_sql_query = sql.query(query.extract_employee_data_archive_query)\n",
    "\n",
    "    for row in values:\n",
    "        cur.execute(sql_query, row)\n",
    "    for row in archive_list:\n",
    "        cur.execute(archive_sql_query, row)\n",
    "    con.commit()\n",
    "    con.close() \n",
    "\"\"\"\n",
    "if __name__ == '__main__':\n",
    "    extract_category_data_json(['CA_category_id.json','DE_category_id.json','FR_category_id.json','GB_category_id.json','IN_category_id.json',\n",
    "                                'JP_category_id.json','KR_category_id.json','MX_category_id.json','RU_category_id.json','US_category_id.json'])\n"
   ]
  },
  {
   "cell_type": "code",
   "execution_count": 80,
   "id": "80586b40-fa41-48d3-9fe1-ef38e33baecf",
   "metadata": {},
   "outputs": [],
   "source": [
    "a = set(tuple(x) for x in temp)"
   ]
  },
  {
   "cell_type": "code",
   "execution_count": 89,
   "id": "a0a415c3-8222-4448-9358-7dcb6de7facc",
   "metadata": {},
   "outputs": [],
   "source": [
    "b = list(a)\n",
    "for i in b:\n",
    "    tmp.append(i[0])"
   ]
  },
  {
   "cell_type": "code",
   "execution_count": 93,
   "id": "d25842d1-8dba-4968-8f14-f80aa419876f",
   "metadata": {},
   "outputs": [
    {
     "data": {
      "text/plain": [
       "32"
      ]
     },
     "execution_count": 93,
     "metadata": {},
     "output_type": "execute_result"
    }
   ],
   "source": [
    "len(tmp)\n"
   ]
  },
  {
   "cell_type": "code",
   "execution_count": 94,
   "id": "6b610580-a363-41af-a50b-2c0adcfc858b",
   "metadata": {},
   "outputs": [
    {
     "data": {
      "text/plain": [
       "32"
      ]
     },
     "execution_count": 94,
     "metadata": {},
     "output_type": "execute_result"
    }
   ],
   "source": [
    "len(set(tmp))"
   ]
  },
  {
   "cell_type": "code",
   "execution_count": null,
   "id": "81720a41-0e97-4208-bf2c-859ae449ad05",
   "metadata": {},
   "outputs": [],
   "source": []
  }
 ],
 "metadata": {
  "kernelspec": {
   "display_name": "Python 3",
   "language": "python",
   "name": "python3"
  },
  "language_info": {
   "codemirror_mode": {
    "name": "ipython",
    "version": 3
   },
   "file_extension": ".py",
   "mimetype": "text/x-python",
   "name": "python",
   "nbconvert_exporter": "python",
   "pygments_lexer": "ipython3",
   "version": "3.8.2"
  }
 },
 "nbformat": 4,
 "nbformat_minor": 5
}
